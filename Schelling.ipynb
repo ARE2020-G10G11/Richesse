{
 "cells": [
  {
   "cell_type": "markdown",
   "metadata": {},
   "source": [
    "# Le modèle de ségrégation de Schelling\n",
    "L. Rannou (basé sur S. Stinckwich)  \n",
    "*ARE DYNAMIC - 2020*"
   ]
  },
  {
   "cell_type": "markdown",
   "metadata": {},
   "source": [
    "## Préambule\n",
    "\n",
    "En Décembre 2016 disparaissait Thomas C. Schelling. Economiste, récipiendaire du Prix de la Banque de Suède en sciences économiques (communément appelé et considéré comme le prix Nobel d’économie), il a travaillé sur de nombreux sujets, en particulier l’analyse des conflits.\n",
    "\n",
    "Une de ses contributions a permis de mieux comprendre les phénomènes de ségrégation. Plus précisément, le propos de Schelling fut d’étudier la dynamique par laquelle **des phénomènes de ségrégation extrêmes** peuvent survenir, en dépit de **préférences qui peuvent sembler faiblement discriminantes individuellement**. Ainsi, même si chaque individu se déclare prêt à accepter une certaine proportion d’invidus « différents » dans son voisinage, le résultat final peut être que la population se regroupe en régions très homogènes.\n",
    "\n",
    "Cette étude peut être menée à l’aide de modèles connus sous le nom d’automates cellulaires. Un des automates les plus célèbres est le [jeu de la vie](https://fr.wikipedia.org/wiki/Jeu_de_la_vie), proposé par John Conway en 1970. Il existe de nombreux autres automates cellulaires dont le comportement est relativement bien étudié, et la littérature est riche à ce sujet. Nous recommandons la lecture de l’article [2] de Jean-Paul Delahaye.\n",
    "\n",
    "## Objectifs\n",
    "\n",
    "Dans ce notebook nous allons essayer de modéliser la répartition d'une population humaine sur une aire urbaine (un *monde*). Nous allons essayer de comprendre les différentes formes de ségration et de communautarisme pouvant avoir lieu dans les villes.\n",
    "Nous partons d'une hypothèse primordiale : **chaque individu est indépendant cependant il ne peut pas se sentir confortable dans un quartier où les habitants sont en majorité \"différents\" de lui.**\n",
    "\n",
    "Dans un premier temps nous allons modéliser cette répartition une aire urbaine simple : une rue ou une avenue (modèle linéaire).\n",
    "Puis dans un second temps nous modéliserons cette répartition à l'échelle d'une ville (modèle spatial).\n",
    "\n",
    "\n",
    "# 1ère partie : Modèle linéaire\n",
    "\n",
    "Considérons un monde *linéaire* (c’est en fait le premier modèle étudié par Schelling dans son article [1], à quelques détails près). Le modèle se compose des éléments suivants.\n",
    "\n",
    "- Les *individus* sont de deux *types* (« 0 » et « 1 »), disposés spatialement sur une ligne de taille $n$ (le *monde*).\n",
    "- Le *voisinage* d'un *individu* est constitué de ses 8 voisins de part et d'autre de sa cellule (4 à sa gauche et 4 à sa droite). Il faut noter que le nombre de voisins peut varier selon la localisation (pour les individus en bout de ligne).\n",
    "- Le *seuil de satisfaction* : un *individu* est satisfait si une majorité (faible) de ses voisins est du même *type* que lui (i.e. il veut **au moins** autant de voisins du même *type* que lui que de voisins d'un *type* différent).\n",
    "- Le *mode de déplacement* : un *individu* non satisfait va chercher à se déplacer pour trouver un emplacement qui le satisfasse (un emplacement dont le *voisinage* respecte son *seuil de satisfaction*). Dans le cas où plusieurs emplacements peuvent le satisfaire, un *individu* se déplace vers l’emplacement le plus proche. Si deux emplacements à la même distance sont satisfaisants l'emplacement de droite est privilégié.\n",
    "- La *dynamique des déplacements* : tous les individus sont considérés, de gauche à droite. Chaque individu non satisfait **s'insère** à l’emplacement satisfaisant le plus proche. Un *tour* est terminé lorsque tous les agents ont été considérés.\n",
    "\n",
    "\n",
    "À l'issu d'un *tour* des individus peuvent se retrouver à nouveau insatisfaits, dû aux déplacements de leurs voisins.\n",
    "Partant d’un état initial, le processus est répété jusqu’à équilibre, c’est-à-dire jusqu’à ce que plus aucun individu insatisfait ne puisse se déplacer, ou qu’une situation de blocage soit détectée. Cela peut nécessiter plusieurs *tours*.\n",
    "\n",
    "### Example\n",
    "\n",
    "Pour illustrer le propos, considérons la situation initiale suivante :\n",
    "\n",
    "![Linear Model 1](linearmodel1.png)\n",
    "\n",
    "Les individus non satisfaits sont indiqués en gris dans la table. Le premier individu à se déplacer sera donc le deuxième en partant de la gauche. En effet, son voisinage ne comprend qu’un autre individu de type \"1\" (et 4 de type \"0\"). Pour trouver une place satisfaisante, il va devoir se déplacer de 6 cases vers la droite (l'emplacement satisfaisant le plus proche).\n",
    "\n",
    "Le nouvel état du monde sera alors (l’individu s’étant déplacé est en gras):\n",
    "\n",
    "![Linear Model 2](linearmodel2.png)\n",
    "\n",
    "\n",
    "### Références\n",
    "- [1] Thomas C. Schelling, [Dynamic Models of Segregation](http://www.stat.berkeley.edu/~aldous/157/Papers/Schelling_Seg_Models.pdf), Journal of Mathematical Sociology (1971) 143-186\n",
    "- [2] J.-P. Delahaye, [Le royaume du jeu de la vie](http://www.lifl.fr/~jdelahay/dnalor/Jeudelavie.pdf), Pour la Science (2009) 378"
   ]
  },
  {
   "cell_type": "markdown",
   "metadata": {},
   "source": [
    "#  Etude du modèle \"linéaire\"\n",
    "\n",
    "**Objectifs : implémenter le modèle de Schelling en python, le tester sur un exemple simple puis étudier l'impact que peuvent avoir les paramètres du modèle sur le monde.**\n",
    "\n",
    "Nous allons étudier l’impact des paramètres du modèle : \n",
    "- la taille du voisinage,\n",
    "- le seuil de satisfaction des individus,\n",
    "- la configuration initiale,\n",
    "- les règles de mouvement (le mode de déplacement).\n",
    "\n",
    "Pour quantifier l'impact de ces paramètres, en plus de l'observation visuelle de l'évolution de notre monde, nous utiliserons les métriques suivantes : \n",
    "- le nombre d’individus satisfaits à l’équilibre,\n",
    "- la taille (moyenne) des regroupements homogènes observés et leur nombre,\n",
    "- la moyenne sur tous les individus de voisins du même type qu’eux,\n",
    "- le nombre de tours nécessaires pour arriver à un état stable."
   ]
  },
  {
   "cell_type": "code",
   "execution_count": 28,
   "metadata": {},
   "outputs": [],
   "source": [
    "import numpy as np\n",
    "import random\n",
    "\n",
    "from matplotlib import pyplot as plt"
   ]
  },
  {
   "cell_type": "code",
   "execution_count": 29,
   "metadata": {},
   "outputs": [],
   "source": [
    "# Paramètres du modèle Schelling (à modifier, ne pas oublier de réexécuter la cellule)\n",
    "neigh = 4          # Taille du voisinnage (d'un côté, pour avoir le total faire *2)\n",
    "threshold = 0.5     # Seuil de satisfaction\n",
    "max_iter = 5        # Nombre de tours\n",
    "size = 22           # Taille du monde (n)\n",
    "c = 1"
   ]
  },
  {
   "cell_type": "markdown",
   "metadata": {},
   "source": [
    "Notre monde est représenté par d'une liste de 0 et de 1. Par exemple :"
   ]
  },
  {
   "cell_type": "code",
   "execution_count": 30,
   "metadata": {},
   "outputs": [],
   "source": [
    "cells = [0, 1, 0, 0, 0, 1, 1, 0, 1, 0, 0, 1, 1, 1, 0, 0, 1, 1, 1, 1, 0, 1]"
   ]
  },
  {
   "cell_type": "code",
   "execution_count": 31,
   "metadata": {},
   "outputs": [],
   "source": [
    "assert len(cells) == size"
   ]
  },
  {
   "cell_type": "markdown",
   "metadata": {},
   "source": [
    "Nous pouvons considérer que ce monde représente une rue, la population de chaque maison étant de type \"0\" ou \"1\". "
   ]
  },
  {
   "cell_type": "markdown",
   "metadata": {},
   "source": [
    "La fonction ```print_world``` convertit un monde en une chaîne de caractères pour l'afficher à l'écran."
   ]
  },
  {
   "cell_type": "code",
   "execution_count": 32,
   "metadata": {},
   "outputs": [],
   "source": [
    "def print_world(cells):\n",
    "    '''list[int] -> str'''\n",
    "    # Signature à compléter\n",
    "    result = \"|\"\n",
    "    for i in cells:\n",
    "        result += str(i)+\"|\"\n",
    "    return result"
   ]
  },
  {
   "cell_type": "code",
   "execution_count": 33,
   "metadata": {},
   "outputs": [
    {
     "data": {
      "text/plain": [
       "'|0|1|0|0|0|1|1|0|1|0|0|1|1|1|0|0|1|1|1|1|0|1|'"
      ]
     },
     "execution_count": 33,
     "metadata": {},
     "output_type": "execute_result"
    }
   ],
   "source": [
    "print_world(cells)"
   ]
  },
  {
   "cell_type": "markdown",
   "metadata": {},
   "source": [
    "**Question 1** : Implémenter la fonction ```neighborhood``` qui prend comme paramètres un monde ```cells```, la position ```c``` d'un individu dans le monde et la taille du voisinnage ```neigh``` et retourne une liste contenant le type des voisins d'un individu (**attention aux bords du monde**)."
   ]
  },
  {
   "cell_type": "code",
   "execution_count": 34,
   "metadata": {},
   "outputs": [
    {
     "name": "stdout",
     "output_type": "stream",
     "text": [
      "[0, 1, 0, 0, 0, 1, 1, 0, 1, 0, 0, 1, 1, 1, 0, 0, 1, 1, 1, 1, 0, 1]\n",
      "4\n"
     ]
    },
    {
     "data": {
      "text/plain": [
       "[0, 1, 0, 0, 1, 1, 0]"
      ]
     },
     "execution_count": 34,
     "metadata": {},
     "output_type": "execute_result"
    }
   ],
   "source": [
    "def neighborhood(cells,c,neigh):\n",
    "    '''list[int]*int*int -> list[int]'''\n",
    "    if c - neigh < 0 and c + neigh + 1 > len(cells) :\n",
    "        return cells[:c:] + cells[c+1::] \n",
    "    elif c - neigh < 0 :\n",
    "        return cells[:c:] + cells[c+1:c+neigh+1:]\n",
    "    elif c + neigh + 1 > len(cells) :\n",
    "        return cells[c-neigh:c:] + cells[c+1::]\n",
    "    else :\n",
    "        return cells[c-neigh:c:] + cells[c+1:c+neigh+1:]\n",
    "print(cells)\n",
    "print(neigh)\n",
    "neighborhood(cells,3,neigh)"
   ]
  },
  {
   "cell_type": "markdown",
   "metadata": {},
   "source": [
    "**Question 2 :** Implémenter la fonction ```satisfaction_ratio```, prenant comme paramètres un monde ```cells```, la position ```c``` d'un individu dans le monde et la taille du voisinnage ```neigh```, retourne le niveau de satisfaction d'un individu (le pourcentage de ses voisins étant du même type)."
   ]
  },
  {
   "cell_type": "code",
   "execution_count": 35,
   "metadata": {},
   "outputs": [
    {
     "name": "stdout",
     "output_type": "stream",
     "text": [
      "[0, 1, 0, 0, 0, 1, 1, 0, 1, 0, 0, 1, 1, 1, 0, 0, 1, 1, 1, 1, 0, 1]\n",
      "4\n",
      "[0.75, 0.2, 0.5, 0.5714285714285714, 0.5, 0.375, 0.25, 0.5, 0.5, 0.25, 0.375, 0.375, 0.5, 0.5, 0.25, 0.125, 0.625, 0.625, 0.5714285714285714, 0.6666666666666666, 0.0, 0.75]\n"
     ]
    }
   ],
   "source": [
    "def satisfaction_ratio(cells,c,neigh) :\n",
    "    '''list[int]*int*int -> Number'''\n",
    "    a = 0\n",
    "    b=neighborhood(cells,c,neigh)\n",
    "    for i in b :\n",
    "        if i == cells[c] :\n",
    "            a += 1\n",
    "    return a / len(b)\n",
    "print(cells)\n",
    "print(neigh)\n",
    "print([satisfaction_ratio(cells,i,neigh) for i in range(len(cells))])"
   ]
  },
  {
   "cell_type": "markdown",
   "metadata": {},
   "source": [
    "**Question 3** :  Implémenter la fonction ```is_happy```, prenant comme paramètres un monde ```cells```, la position ```c``` d'un individu dans le monde, la taille du voisinnage ```neigh``` et ```threshold``` son seuil de satisfaction, retourne un booléen indiquant si l'individu à la position ```c``` est satisfait."
   ]
  },
  {
   "cell_type": "code",
   "execution_count": 36,
   "metadata": {},
   "outputs": [
    {
     "name": "stdout",
     "output_type": "stream",
     "text": [
      "[0, 1, 0, 0, 0, 1, 1, 0, 1, 0, 0, 1, 1, 1, 0, 0, 1, 1, 1, 1, 0, 1]\n",
      "4\n",
      "0.5\n",
      "[True, False, True, True, True, False, False, True, True, False, False, False, True, True, False, False, True, True, True, True, False, True]\n"
     ]
    }
   ],
   "source": [
    "def is_happy(cells,c,neigh,threshold) :\n",
    "    '''list[int]*int*int*Number -> Bool'''\n",
    "    return satisfaction_ratio(cells,c,neigh) >= threshold\n",
    "\n",
    "print(cells)\n",
    "print(neigh)\n",
    "print(threshold)\n",
    "print([is_happy(cells,i,neigh,threshold) for i in range(len(cells))])\n",
    "    "
   ]
  },
  {
   "cell_type": "markdown",
   "metadata": {},
   "source": [
    "**Question 4 :** En s'inspirant de la fonction ```print_world```, implémenter la fonction ```print_satisfaction``` une réprésentation graphique de la statisfaction des individus du monde ```cells```."
   ]
  },
  {
   "cell_type": "code",
   "execution_count": 37,
   "metadata": {},
   "outputs": [
    {
     "data": {
      "text/plain": [
       "'|C|E|C|C|C|E|E|C|C|E|E|E|C|C|E|E|C|C|C|C|E|C|'"
      ]
     },
     "execution_count": 37,
     "metadata": {},
     "output_type": "execute_result"
    }
   ],
   "source": [
    "def print_satisfaction(cells,neigh,threshold):\n",
    "    '''list[int]*int*Number -> str'''\n",
    "    result = \"|\"\n",
    "    for c in range(len(cells)):\n",
    "        if is_happy(cells,c,neigh,threshold) :\n",
    "            result += \"C|\"\n",
    "        else :\n",
    "            result += \"E|\"\n",
    "    return result\n",
    "print_satisfaction(cells,neigh,threshold)"
   ]
  },
  {
   "cell_type": "markdown",
   "metadata": {},
   "source": [
    "**Question 5 :** Implémenter la fonction ```relocation``` **retirant** un individu à la position ```c``` et l'**insérant** juste avant la position```d``` (avec $0\\leq d \\leq n+1$). **Cette fonction doit retourner une copie du monde**."
   ]
  },
  {
   "cell_type": "code",
   "execution_count": 38,
   "metadata": {},
   "outputs": [
    {
     "name": "stdout",
     "output_type": "stream",
     "text": [
      "[0, 1, 0, 0, 0, 1, 1, 0, 1, 0, 0, 1, 1, 1, 0, 0, 1, 1, 1, 1, 0, 1]\n",
      "[0, 1, 0, 0, 1, 0, 1, 0, 1, 0, 0, 1, 1, 1, 0, 0, 1, 1, 1, 1, 0, 1]\n",
      "[0, 0, 0, 1, 0, 1, 1, 0, 1, 0, 0, 1, 1, 1, 0, 0, 1, 1, 1, 1, 0, 1]\n"
     ]
    }
   ],
   "source": [
    "def relocation(cells,c,d) :\n",
    "    '''list[int]*int*int -> list[int]'''\n",
    "    if d < c :\n",
    "        return cells[:d:]+[cells[c]]+cells[d:c:]+cells[c+1::]\n",
    "    elif c < d :\n",
    "        return cells[:c:]+cells[c+1:d:]+[cells[c]]+cells[d::]\n",
    "    elif c == d :\n",
    "        return cells\n",
    "print(cells)\n",
    "print(relocation(cells,4,6))\n",
    "print(relocation(cells,1,4))"
   ]
  },
  {
   "cell_type": "markdown",
   "metadata": {},
   "source": [
    "**Question 6 :** Implémenter la fonction ```nearest_satisfying``` qui, pour un individu insatisfait, retourne la position satisfaisante la plus proche (en cas d'égalité : préférer la position satisfaisante de droite).  \n",
    "*Indice :* Pour savoir si une position est satisfaisante nous pouvons essayer d'insérer l'individu et lui demander s'il est satisfait de son nouveau voisinnage."
   ]
  },
  {
   "cell_type": "markdown",
   "metadata": {},
   "source": [
    "**Question 6bis (optionnelle)** : S'interroger sur la rapidité de cette opération et proposer une solution plus efficace."
   ]
  },
  {
   "cell_type": "code",
   "execution_count": 39,
   "metadata": {},
   "outputs": [
    {
     "name": "stdout",
     "output_type": "stream",
     "text": [
      "[0, 1, 0, 0, 0, 1, 1, 0, 1, 0, 0, 1, 1, 1, 0, 0, 1, 1, 1, 1, 0, 1]\n",
      "4\n",
      "0.5\n"
     ]
    },
    {
     "data": {
      "text/plain": [
       "[0, 8, 2, 3, 4, 9, 9, 7, 8, 12, 7, 10, 12, 13, 11, 11, 16, 17, 18, 19, 13, 21]"
      ]
     },
     "execution_count": 39,
     "metadata": {},
     "output_type": "execute_result"
    }
   ],
   "source": [
    "def nearest_satisfying(cells,c,neigh,threshold):\n",
    "    ''' list[int]*int*int*Number -> int'''\n",
    "    dg = {c - i for i in range(c) if is_happy(relocation(cells,c,i),i,neigh,threshold)}\n",
    "    dd = {i - c for i in range(c+1,len(cells)) if is_happy(relocation(cells,c,i),i-1,neigh,threshold)}\n",
    "    \n",
    "    if(dd == set() and dg == set()) or is_happy(cells,c,neigh,threshold) :\n",
    "        return c\n",
    "    elif dg == set() :\n",
    "        return c + min(dd)\n",
    "    elif dd == set() :\n",
    "        return c - min(dg)\n",
    "    else :\n",
    "        if dd <= dg :\n",
    "            return c + min(dd)\n",
    "        else :\n",
    "            return c - min(dg)\n",
    "\n",
    "print(cells)\n",
    "print(neigh)\n",
    "print(threshold)\n",
    "[nearest_satisfying(cells,i,neigh,threshold) for i in range(len(cells))]"
   ]
  },
  {
   "cell_type": "markdown",
   "metadata": {},
   "source": [
    "### Dynamique\n",
    "\n",
    "La dynamique consiste à répéter les déplacements. Schelling suggère de considérer les individus un par un, en partant de la gauche, et de les faire se déplacer s'ils le peuvent. Un *tour* est terminé lorsque tous les individus ont été considérés, et on peut répéter ainsi les tours. Mais quand s'arrêter avec cette dynamique ? \n",
    "\n",
    "Nous considérons différents critères de convergence :\n",
    "* Lorsque tous les individus sont satisfaits. Cependant, rien ne garantit que le système puisse parvenir à un état où tous les individus sont satisfaits (cela peut arriver mais c'est plutôt exceptionnel). \n",
    "* Lorsque plus aucun individu ne peut se déplacer. Ce critère est plus pertinent, mais il cache une difficulté: le système ne parvient pas non plus nécessairement dans un état où plus aucun individu ne peut se déplacer. Ce critère seul peut donc mener à des boucles infinies.\n",
    "* Nous emploierons donc un garde-fou, qui consistera à poser un nombre maximal d'itérations. Si le système n'est pas stabilisé, selon le critère précédent, après ce nombre d'itérations : la dynamique s'arrête. "
   ]
  },
  {
   "cell_type": "markdown",
   "metadata": {},
   "source": [
    "**Question 7**: Implémenter la fonction ```schelling``` qui effectue un *tour* du modèle de schelling. Vérifier l'exactitude de cette fonction sur des exemples de votre choix (papier et stylo utiles). "
   ]
  },
  {
   "cell_type": "code",
   "execution_count": 40,
   "metadata": {},
   "outputs": [
    {
     "name": "stdout",
     "output_type": "stream",
     "text": [
      "4\n",
      "0.5\n",
      "[0, 1, 0, 0, 0, 1, 1, 0, 1, 0, 0, 1, 1, 1, 0, 0, 1, 1, 1, 1, 0, 1]\n",
      "[0, 0, 0, 0, 1, 0, 0, 0, 0, 0, 0, 1, 1, 1, 1, 1, 1, 1, 1, 1, 1, 1]\n",
      "[0, 0, 0, 0, 0, 0, 0, 0, 0, 0, 1, 1, 1, 1, 1, 1, 1, 1, 1, 1, 1, 1]\n",
      "[0, 0, 0, 0, 0, 0, 0, 0, 0, 0, 1, 1, 1, 1, 1, 1, 1, 1, 1, 1, 1, 1]\n"
     ]
    }
   ],
   "source": [
    "def schelling(cells,neigh,threshold) :\n",
    "    '''list[int]*int*Number -> list[int]'''\n",
    "    for i in range(len(cells)) :\n",
    "        cells = relocation(cells,i,nearest_satisfying(cells,i,neigh,threshold))\n",
    "    return cells\n",
    "\n",
    "print(neigh)\n",
    "print(threshold)\n",
    "print(cells)\n",
    "print(schelling(cells,neigh,threshold))\n",
    "print(schelling(schelling(cells,neigh,threshold),neigh,threshold))\n",
    "print(schelling(schelling(schelling(cells,neigh,threshold),neigh,threshold),neigh,threshold))"
   ]
  },
  {
   "cell_type": "markdown",
   "metadata": {},
   "source": [
    "**Question 8 :** Implementer la fonction finale du modèle de schelling ```linear_schelling``` prenant en compte tous les paramètres du modèle (taille du voisinnage ```neigh```, seuil de satisfaction ```threshold```, nombre d'itérations ```max_iter```)."
   ]
  },
  {
   "cell_type": "code",
   "execution_count": 41,
   "metadata": {},
   "outputs": [
    {
     "name": "stdout",
     "output_type": "stream",
     "text": [
      "4\n",
      "0.5\n",
      "5\n",
      "[0, 1, 0, 0, 0, 1, 1, 0, 1, 0, 0, 1, 1, 1, 0, 0, 1, 1, 1, 1, 0, 1]\n"
     ]
    },
    {
     "data": {
      "text/plain": [
       "\" seul l'initiation est print pour linear_schelling_print, le print ne marche pas dans la récursion \""
      ]
     },
     "execution_count": 41,
     "metadata": {},
     "output_type": "execute_result"
    }
   ],
   "source": [
    "def linear_schelling(cells,neigh,threshold,max_iter) :\n",
    "    '''list[int]*int*Number*int -> tuple[list[int]*int]'''\n",
    "    if max_iter == 0 :\n",
    "        return (cells,max_iter)\n",
    "    elif cells == schelling(cells,neigh,threshold) :\n",
    "        return (cells,max_iter)\n",
    "    else :\n",
    "        return (linear_schelling(schelling(cells,neigh,threshold),neigh,threshold,max_iter-1))\n",
    "\n",
    "def linear_schelling_print(cells,neigh,threshold,max_iter) :\n",
    "    '''list[int]*int*Number*int -> tuple[list[int]*int]'''\n",
    "    if max_iter == 0 :\n",
    "        print(print_world(cells))\n",
    "        print(print_satisfaction(cells,neigh,threshold))\n",
    "        return (cells,max_iter)\n",
    "    elif cells == schelling(cells,neigh,threshold) :\n",
    "        print(print_world(cells))\n",
    "        print(print_satisfaction(cells,neigh,threshold))\n",
    "        return (cells,max_iter)\n",
    "    else :\n",
    "        print(print_world(cells))\n",
    "        print(print_satisfaction(cells,neigh,threshold))\n",
    "        return (linear_schelling(schelling(cells,neigh,threshold),neigh,threshold,max_iter-1))\n",
    "print(neigh)\n",
    "print(threshold)\n",
    "print(max_iter)\n",
    "print(cells)\n",
    "a,b = linear_schelling(cells,neigh,threshold,max_iter)\n",
    "a == schelling(schelling(schelling(cells,neigh,threshold),neigh,threshold),neigh,threshold)\n",
    "\n",
    "''' seul l'initiation est print pour linear_schelling_print, le print ne marche pas dans la récursion '''"
   ]
  },
  {
   "cell_type": "markdown",
   "metadata": {},
   "source": [
    "Normalement, à ce stade, nous avons réussi à implémenter le modèle de Schelling sur un monde linéaire. Nous allons, maintenant, essayer de déterminer l'impact des paramètres sur la dynamique de notre *monde*. Pour se faire nous allons avoir besoin de mondes plus grands et d'un nombre de types d'individu plus grand que 2."
   ]
  },
  {
   "cell_type": "markdown",
   "metadata": {},
   "source": [
    "**Question 9** : Proposer une méthode pour générer des mondes linéaires de manière automatique et aléatoire (refléchir aux paramètres de cette méthode). Implémenter cette méthode dans la fonction ```generate_linear_world```.  \n",
    "*Indice*: on peut s'intéresser à la fonction ```random.choice``` du package ```numpy```. "
   ]
  },
  {
   "cell_type": "code",
   "execution_count": 42,
   "metadata": {},
   "outputs": [
    {
     "name": "stdout",
     "output_type": "stream",
     "text": [
      "[1, 0, 0, 0, 0, 1, 1, 0, 1, 0]\n"
     ]
    }
   ],
   "source": [
    "def generate_linear_world(size,types):\n",
    "    \"\"\"int*list[int] -> list[int]\"\"\"\n",
    "    l = []\n",
    "    for i in range(size):\n",
    "        l += [np.random.choice(types)]\n",
    "    return l\n",
    "print(generate_linear_world(10,[0,1]))"
   ]
  },
  {
   "cell_type": "markdown",
   "metadata": {},
   "source": [
    "La fonction ```plot_world``` permet d'afficher notre monde de manière un peu plus élégante:"
   ]
  },
  {
   "cell_type": "code",
   "execution_count": 43,
   "metadata": {},
   "outputs": [
    {
     "data": {
      "image/png": "[encoded data removed]",
      "text/plain": [
       "<Figure size 1080x864 with 1 Axes>"
      ]
     },
     "metadata": {},
     "output_type": "display_data"
    }
   ],
   "source": [
    "def plot_world(world):\n",
    "    if type(world) == list:\n",
    "        A = np.array([world])\n",
    "    else:\n",
    "        A = world\n",
    "    plt.figure(figsize=(15,12)) # (30,30) = Taille de la figure\n",
    "    plt.imshow(A,cmap='viridis')\n",
    "    plt.tick_params(top=False, bottom=False, right=False, left=False, labelleft=False, labelbottom=False)\n",
    "    plt.show()\n",
    "plot_world(cells)    "
   ]
  },
  {
   "cell_type": "markdown",
   "metadata": {},
   "source": [
    "**Question 10** : Implémenter les métriques suivantes (une métrique = une fonction) :\n",
    "- ```happiness_rate``` le ratio d’individus satisfaits,\n",
    "- ```mean_size_communities``` la taille (moyenne) des regroupements homogènes observés,\n",
    "- ```nb_communities``` le nombre de regroupements homogènes,\n",
    "- ```mean_same_type``` la moyenne sur tous les individus du ratio de voisins du même type qu’eux,\n",
    "- ```nb_iter_to_stability``` le nombre de tours nécessaires pour arriver à un état stable."
   ]
  },
  {
   "cell_type": "code",
   "execution_count": 44,
   "metadata": {},
   "outputs": [
    {
     "name": "stdout",
     "output_type": "stream",
     "text": [
      "0.5909090909090909\n",
      "1.8333333333333333\n",
      "11\n",
      "0.44361471861471863\n",
      "2\n"
     ]
    }
   ],
   "source": [
    "def happiness_rate(cells,neigh,threshold):\n",
    "    '''list[int]*int*Number -> Number'''\n",
    "    s = 0\n",
    "    for i in range(len(cells)) :\n",
    "        if is_happy(cells,i,neigh,threshold) :\n",
    "            s += 1\n",
    "    return s/len(cells)\n",
    "        \n",
    "def mean_size_communities(cells):\n",
    "    '''list[int] -> Number'''\n",
    "    l = [1]\n",
    "    a = 0\n",
    "    for i in range(1,len(cells)):\n",
    "        if cells[i] != cells[i-1] :\n",
    "            l += [1]\n",
    "            a += 1\n",
    "        else :\n",
    "            l[a] += 1\n",
    "    s = 0\n",
    "    for i in l :\n",
    "        s += i\n",
    "    return s/len(l)\n",
    "            \n",
    "        \n",
    "def nb_communities(cells):\n",
    "    '''list[int] -> int'''\n",
    "    s = 0\n",
    "    for i in range(1,len(cells)):\n",
    "        if cells[i] != cells[i-1] :\n",
    "            s += 1\n",
    "    return s\n",
    "\n",
    "def mean_same_type(cells,neigh) :\n",
    "    '''list[int]*int -> Number'''\n",
    "    s = 0\n",
    "    for i in range(len(cells)) :\n",
    "        s += satisfaction_ratio(cells,i,neigh)\n",
    "    return s/len(cells)\n",
    "    \n",
    "def nb_iter_to_stability(cells,neigh,threshold,max_iter) :\n",
    "    '''list[int]*int*Number*int'''\n",
    "    a,b = linear_schelling(cells,neigh,threshold,max_iter)\n",
    "    return max_iter - b\n",
    "\n",
    "print(happiness_rate(cells,neigh,threshold))\n",
    "print(mean_size_communities(cells))\n",
    "print(nb_communities(cells))\n",
    "print(mean_same_type(cells,neigh))\n",
    "print(nb_iter_to_stability(cells,neigh,threshold,max_iter))"
   ]
  },
  {
   "cell_type": "markdown",
   "metadata": {},
   "source": [
    "**Question 11 :** Faire varier les paramètres du modèle et observer l'évolution des différentes métriques. Tracer les courbes correspondantes, si elles sont judicieuses, en utilisant matplotlib ; puis décrire les phénomènes observés (pas plus de 3 courbes, un paragraphe par phénomène observé).\n",
    "\n",
    "*Indices :* Tracer l'évolution du taux de satisfaction au fil des tours. Faire évoluer le seuil de satisfaction par pas de 0.1 de 0 à 1. Etudier la taille des regroupements homogènes en fonction de ce seuil. Nombre de tours nécessaires pour arriver à un état stable en fonction de la taille du monde. "
   ]
  },
  {
   "cell_type": "code",
   "execution_count": 45,
   "metadata": {
    "scrolled": true
   },
   "outputs": [
    {
     "data": {
      "image/png": "[encoded data removed]",
      "text/plain": [
       "<Figure size 432x288 with 1 Axes>"
      ]
     },
     "metadata": {
      "needs_background": "light"
     },
     "output_type": "display_data"
    }
   ],
   "source": [
    "%matplotlib inline\n",
    "import matplotlib.pyplot as plt\n",
    "\n",
    "\n",
    "def graph(nbmoy,size,types,max_iter,n1,n2,n3,n4,n5) :\n",
    "    '''int*list[int]*int*int*int*int -> NoneType'''\n",
    "    x1 = []\n",
    "    x2 = []\n",
    "    x3 = []\n",
    "    x4 = []\n",
    "    x5 = []\n",
    "    y1 = []\n",
    "    y2 = []\n",
    "    y3 = []\n",
    "    y4 = []\n",
    "    y5 = []\n",
    "    for i in range(n1*2+1) :\n",
    "        x1 += [i/(n1*2)]\n",
    "        y1 += [0]\n",
    "    for i in range(n2*2+1) :\n",
    "        x2 += [i/(n2*2)]\n",
    "        y2 += [0]\n",
    "    for i in range(n3*2+1) :\n",
    "        x3 += [i/(n3*2)]\n",
    "        y3 += [0]\n",
    "    for i in range(n4*2+1) :\n",
    "        x4 += [i/(n4*2)]\n",
    "        y4 += [0]\n",
    "    for i in range(n5*2+1) :\n",
    "        x5 += [i/(n5*2)]\n",
    "        y5 += [0]\n",
    "    \n",
    "    \n",
    "    for i in range(nbmoy) :\n",
    "    \n",
    "        cells = generate_linear_world(size,types)\n",
    "\n",
    "        for i in range(len(x1)) :\n",
    "            y1[i] += nb_iter_to_stability(cells,n1,x1[i],max_iter)/nbmoy\n",
    "        for i in range(len(x2)) :\n",
    "            y2[i] += nb_iter_to_stability(cells,n2,x2[i],max_iter)/nbmoy\n",
    "        for i in range(len(x3)) :\n",
    "            y3[i] += nb_iter_to_stability(cells,n3,x3[i],max_iter)/nbmoy\n",
    "        for i in range(len(x4)) :\n",
    "            y4[i] += nb_iter_to_stability(cells,n4,x4[i],max_iter)/nbmoy\n",
    "        for i in range(len(x5)) :\n",
    "            y5[i] += nb_iter_to_stability(cells,n5,x5[i],max_iter)/nbmoy\n",
    "    \n",
    "    plt.plot(x1,y1)\n",
    "    plt.plot(x2,y2)\n",
    "    plt.plot(x3,y3)\n",
    "    plt.plot(x4,y4)\n",
    "    plt.plot(x5,y5)\n",
    "    plt.xlabel(\"Threshold\")\n",
    "    plt.ylabel(\"nb_iter_to_stability\")\n",
    "    plt.legend([n1,n2,n3,n4,n5])\n",
    "    plt.show()\n",
    "    return None\n",
    "\n",
    "    \n",
    "graph(300,20,[0,1],10,1,2,3,4,5)"
   ]
  },
  {
   "cell_type": "markdown",
   "metadata": {},
   "source": [
    "# 2ème partie : Modèle spatial\n",
    "\n",
    "Dans cette partie le monde que nous allons considérer n'est plus constitué d'une dimension mais de deux dimensions. Si l'on pouvait assimiler le modèle \"linéaire\" à l'application du modèle de Schelling dans une rue, l'extension à une deuxième dimension permet de modéliser le modèle de Schelling à l'échelle d'une ville (pensons à une carte divisées en emplacements carrés de même taille, chaque carré représentant un immeuble ou un pâté de maisons).\n",
    "\n",
    "Un emplacement est déterminé par ses coordonnées $(X,Y)$. Par exemple, l'emplacement $(0,0)$ est situé en tout en haut à gauche et l'emplacement $(n,m)$ tout en bas à droite.\n",
    "\n",
    "L’extension du modèle linéaire au modèle spatial n’est pas triviale. En effet, si toutes les localisations sont occupées, il n’est pas si évident de définir les règles de déplacements (où se déplacent les individus « chassés » de leur localisation ?).\n",
    "\n",
    "Il est alors plus aisé d’introduire des localisations non occupées. Dans ce cas, les individus non satisfait se déplacent au hasard vers une localisation inoccupée. Contrairement au modèle linéaire, la nouvelle localisation ne satisfait pas forcément le seuil de préférence et n'est pas forcément la plus proche (ces alternatives pourront être implantées en question 5)."
   ]
  },
  {
   "cell_type": "markdown",
   "metadata": {},
   "source": [
    "# Etude du modèle spatial"
   ]
  },
  {
   "cell_type": "code",
   "execution_count": 46,
   "metadata": {},
   "outputs": [],
   "source": [
    "# Paramètres du modèle Schelling (à modifier, ne pas oublier de réexécuter la cellule)\n",
    "neigh2 = 1       # Taille du voisinnage\n",
    "threshold = 0.5 # Seuil de satisfaction\n",
    "max_iter = 5    # Nombre de tours\n",
    "n,m = 7,7       # Taille du monde (n)"
   ]
  },
  {
   "cell_type": "markdown",
   "metadata": {},
   "source": [
    "**Question 1** : Implanter la fonction ```generate_spatial_world``` permettant de générer des mondes spatiaux aléatoirement (de même : s'interroger sur les paramètres nécessaires). Utiliser ```numpy.array```.  \n",
    "*Indice* : Pour un emplacement innocupé, nous pouvons créer un nouveau type."
   ]
  },
  {
   "cell_type": "code",
   "execution_count": 47,
   "metadata": {},
   "outputs": [
    {
     "name": "stdout",
     "output_type": "stream",
     "text": [
      "[[2 0 2 0 0]\n",
      " [1 2 1 0 1]\n",
      " [2 0 0 0 0]\n",
      " [2 1 0 2 0]\n",
      " [0 2 0 0 1]]\n"
     ]
    }
   ],
   "source": [
    "import numpy as np\n",
    "\n",
    "def generate_spacial_world(n,m,types):\n",
    "    '''int -> list[list[Number]]'''\n",
    "    a = np.array([[0 for i in range(m)] for i in range(n)])\n",
    "    for i in range(n) :\n",
    "        for j in range(m) :\n",
    "            a[i,j] = np.random.choice(types)\n",
    "    return a\n",
    "\n",
    "print(generate_spacial_world(5,5,[0,1,2]))"
   ]
  },
  {
   "cell_type": "markdown",
   "metadata": {},
   "source": [
    "**Question 2 :** Implémenter la fonction ```spatial_schelling```, permettant d'appliquer le modèle de schelling sur un monde spatial.  \n",
    "**Utiliser la [distance de Tchebychev](https://fr.wikipedia.org/wiki/Distance_de_Tchebychev)** dès qu'il est question de comparer des distances entre individus : pour les voisins nous pouvons considérer tous les emplacements dont la distance est inférieure ou égale à ```neigh```."
   ]
  },
  {
   "cell_type": "code",
   "execution_count": 48,
   "metadata": {},
   "outputs": [
    {
     "name": "stdout",
     "output_type": "stream",
     "text": [
      "1\n",
      "[[2 1 1 2 2]\n",
      " [0 0 2 0 1]\n",
      " [1 0 2 0 2]\n",
      " [2 1 2 0 1]\n",
      " [2 1 1 0 0]]\n",
      "[[0. 1.]\n",
      " [0. 0.]]\n",
      "[[0.1    0.0875 0.0875 0.1    0.1   ]\n",
      " [0.1    0.1    0.1    0.1    0.0875]\n",
      " [0.0875 0.1    0.1    0.1    0.1   ]\n",
      " [0.1    0.0875 0.1    0.1    0.0875]\n",
      " [0.1    0.0875 0.0875 0.1    0.1   ]]\n",
      "|E|E|E|E|E|\n",
      "|E|E|E|E|E|\n",
      "|E|C|E|C|E|\n",
      "|E|E|E|C|E|\n",
      "|E|E|E|E|E|\n",
      "|\n",
      "[[2 1 1 2 2]\n",
      " [0 0 2 0 1]\n",
      " [1 0 2 0 2]\n",
      " [2 1 2 0 1]\n",
      " [2 1 1 0 0]]\n",
      "[[0 1 1 2 2]\n",
      " [0 2 2 0 1]\n",
      " [1 0 2 0 2]\n",
      " [2 1 2 0 1]\n",
      " [2 1 1 0 0]]\n"
     ]
    }
   ],
   "source": [
    "import copy\n",
    "\n",
    "world = np.array(generate_spacial_world(5,5,[0,1,2]))\n",
    "\n",
    "def spatial_neighborhood(world,x,y,neigh):\n",
    "    '''list[list[float]]*int*int*int -> list[int]'''\n",
    "    a = []\n",
    "    for i in range(max(0,x-neigh),min(len(world),x+neigh+1)) :\n",
    "        b = []\n",
    "        for j in range(max(0,x-neigh),min(len(world),x+neigh+1)):\n",
    "            if i == x and j == y :\n",
    "                b += [0.]\n",
    "            else :\n",
    "                b += [world[i,j]]\n",
    "        a.append(b)\n",
    "    return np.array(a)\n",
    "\n",
    "def spatial_satisfaction_ratio(world,x,y,neigh) :\n",
    "    '''list[list[float]]*int*int*int -> Number'''\n",
    "    s = 0\n",
    "    n= np.array(spatial_neighborhood(world,x,y,neigh))\n",
    "    for i in range(len(n)):\n",
    "        for j in range(len(n[0])) :\n",
    "            if n[i,j] == world[x,y] :\n",
    "                s += 1\n",
    "    return s / ((2*neigh + 1)**2 - 1)\n",
    "\n",
    "def spatial_is_happy(world,x,y,neigh,threshold) :\n",
    "    '''list[list[float]]*int*int*Number -> Bool'''\n",
    "    return spatial_satisfaction_ratio(world,x,y,neigh) >= threshold\n",
    "\n",
    "def print_satisfaction(world,neigh,threshold):\n",
    "    '''list*list*[float]*int*Number -> str'''\n",
    "    result = \"|\"\n",
    "    for i in range(len(world)) :\n",
    "        for j in range(len(world[0])) :\n",
    "            if spatial_is_happy(world,i,j,neigh,threshold) :\n",
    "                result += \"C|\"\n",
    "            else :\n",
    "                result += \"E|\"\n",
    "            if j == len(world[0])-1 :\n",
    "                result += \"\\n|\"\n",
    "    return result\n",
    "\n",
    "def spatial_relocation(world,x,y,a,b) :\n",
    "    w = copy.deepcopy(world)\n",
    "    v1 = world[x,y]\n",
    "    v2 = world[a,b]\n",
    "    w[a,b] = v1\n",
    "    w[x,y] = v2\n",
    "    return w\n",
    "\n",
    "print(neigh2)\n",
    "print(world)\n",
    "print(spatial_neighborhood(world,4,4,neigh2))\n",
    "print(np.array([[spatial_satisfaction_ratio(world,i,j,neigh)for j in range(len(world[0]))] for i in range(len(world))]))\n",
    "print(print_satisfaction(world,neigh2,threshold))\n",
    "print(world)\n",
    "print(spatial_relocation(world,0,0,1,1))"
   ]
  },
  {
   "cell_type": "markdown",
   "metadata": {},
   "source": [
    "**Question 3 :** Adapter les métriques de la question 10 pour le modèle spatial. "
   ]
  },
  {
   "cell_type": "code",
   "execution_count": null,
   "metadata": {},
   "outputs": [],
   "source": []
  },
  {
   "cell_type": "markdown",
   "metadata": {},
   "source": [
    "**Question 4 :** Faire varier les paramètres du modèle et observer l'évolution des différentes métriques. Tracer les courbes correspondantes, si elles sont judicieuses, en utilisant matplotlib ; puis décrire les phénomènes observés (pas plus de 3 courbes, un paragraphe par phénomène observé).  "
   ]
  },
  {
   "cell_type": "markdown",
   "metadata": {},
   "source": [
    "**Question 5 (optionnelle) :** Proposer des alternatives au modèle.  "
   ]
  },
  {
   "cell_type": "markdown",
   "metadata": {},
   "source": [
    "# 3ème partie : Animation (Interface Graphique avec tkinter)"
   ]
  },
  {
   "cell_type": "code",
   "execution_count": 49,
   "metadata": {},
   "outputs": [],
   "source": [
    "import tkinter as Tk"
   ]
  },
  {
   "cell_type": "code",
   "execution_count": null,
   "metadata": {},
   "outputs": [],
   "source": []
  }
 ],
 "metadata": {
  "anaconda-cloud": {},
  "kernelspec": {
   "display_name": "Python 3",
   "language": "python",
   "name": "python3"
  },
  "language_info": {
   "codemirror_mode": {
    "name": "ipython",
    "version": 3
   },
   "file_extension": ".py",
   "mimetype": "text/x-python",
   "name": "python",
   "nbconvert_exporter": "python",
   "pygments_lexer": "ipython3",
   "version": "3.7.3"
  }
 },
 "nbformat": 4,
 "nbformat_minor": 1
}
